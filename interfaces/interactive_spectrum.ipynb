{
 "cells": [
  {
   "cell_type": "code",
   "execution_count": 1,
   "metadata": {
    "scrolled": false
   },
   "outputs": [
    {
     "name": "stdout",
     "output_type": "stream",
     "text": [
      "--2019-08-12 22:28:56--  https://zenodo.org/record/2557923/files/phoenix_t4000_10000_w3000_9000_r3000.h5?download=1\n",
      "Resolving zenodo.org (zenodo.org)... 188.184.65.20\n",
      "Connecting to zenodo.org (zenodo.org)|188.184.65.20|:443... connected.\n",
      "HTTP request sent, awaiting response... 200 OK\n",
      "Length: 74932480 (71M) [application/octet-stream]\n",
      "Saving to: ‘test_grid.h5’\n",
      "\n",
      "test_grid.h5        100%[===================>]  71.46M   407KB/s    in 2m 21s  \n",
      "\n",
      "2019-08-12 22:31:19 (521 KB/s) - ‘test_grid.h5’ saved [74932480/74932480]\n",
      "\n"
     ]
    }
   ],
   "source": [
    "!wget https://zenodo.org/record/2557923/files/phoenix_t4000_10000_w3000_9000_r3000.h5?download=1 -O test_grid.h5"
   ]
  },
  {
   "cell_type": "code",
   "execution_count": 2,
   "metadata": {},
   "outputs": [
    {
     "name": "stdout",
     "output_type": "stream",
     "text": [
      "[\u001b[1mstarkit.gridkit.base\u001b[0m][\u001b[1;37mINFO\u001b[0m   ]  Reading index (\u001b[1mbase.py\u001b[0m:266)\n",
      "[\u001b[1mstarkit.gridkit.base\u001b[0m][\u001b[1;37mINFO\u001b[0m   ]  Discovered columns teff, logg, mh (\u001b[1mbase.py\u001b[0m:269)\n",
      "[\u001b[1mstarkit.gridkit.base\u001b[0m][\u001b[1;37mINFO\u001b[0m   ]  Reading Fluxes (\u001b[1mbase.py\u001b[0m:272)\n",
      "[\u001b[1mstarkit.gridkit.base\u001b[0m][\u001b[1;37mINFO\u001b[0m   ]  Fluxes shape (688, 13184) (\u001b[1mbase.py\u001b[0m:275)\n",
      "[\u001b[1mpy.warnings         \u001b[0m][\u001b[1;33mWARNING\u001b[0m]  /home/jpolygon/miniconda3/envs/sktest2/lib/python3.6/site-packages/astropy/units/format/generic.py:462: UnitsWarning: 'erg/s/angstrom' contains multiple slashes, which is discouraged by the FITS standard\n",
      "  core.UnitsWarning)\n",
      " (\u001b[1mwarnings.py\u001b[0m:99)\n",
      "[\u001b[1mstarkit.gridkit.base\u001b[0m][\u001b[1;37mINFO\u001b[0m   ]  Initializing spec grid (\u001b[1mbase.py\u001b[0m:309)\n",
      "[\u001b[1mstarkit.gridkit.base\u001b[0m][\u001b[1;33mWARNING\u001b[0m]  **** NO WAVELENGTH TYPE SET DEFAULTING TO GRID (vacuum) ****\n",
      "\n",
      " (\u001b[1mbase.py\u001b[0m:75)\n"
     ]
    },
    {
     "data": {
      "text/plain": [
       "<SpectralGrid(teff=4000.0, logg=3.0, mh=0.0)>"
      ]
     },
     "execution_count": 2,
     "metadata": {},
     "output_type": "execute_result"
    }
   ],
   "source": [
    "from starkit.gridkit import load_grid\n",
    "from bqplot import pyplot as plt\n",
    "from ipywidgets import interactive, IntSlider, FloatSlider\n",
    "\n",
    "grid = load_grid('test_grid.h5')\n",
    "grid"
   ]
  },
  {
   "cell_type": "code",
   "execution_count": 3,
   "metadata": {},
   "outputs": [],
   "source": [
    "# Prepare sliders with their min, max from extent values\n",
    "teff_extent, logg_extent, mh_extent = grid.get_grid_extent()\n",
    "teff_slider = IntSlider(min=teff_extent[0], max=teff_extent[1], step=1, description='Teff', continuous_update=False)\n",
    "logg_slider = FloatSlider(min=logg_extent[0], max=logg_extent[1], step=0.5, description='log g', continuous_update=False)\n",
    "mh_slider = FloatSlider(min=mh_extent[0], max=mh_extent[1], step=0.5, description='[M/H]', continuous_update=False)\n",
    "\n",
    "# Function to plot spectrum\n",
    "def plot_spectrum(teff, logg, mh):\n",
    "    grid.teff = teff\n",
    "    grid.logg = logg\n",
    "    grid.mh = mh\n",
    "    wave, flux = grid()\n",
    "    \n",
    "    plt.figure(title='Spectrum')\n",
    "    plt.plot(wave,flux)\n",
    "    plt.xlabel('Wavelength (Ang)')\n",
    "    plt.ylabel('Flux')\n",
    "    plt.show()"
   ]
  },
  {
   "cell_type": "code",
   "execution_count": 4,
   "metadata": {},
   "outputs": [
    {
     "data": {
      "application/vnd.jupyter.widget-view+json": {
       "model_id": "6793bf1838a24f8f970b2cb7fedbd2b3",
       "version_major": 2,
       "version_minor": 0
      },
      "text/plain": [
       "interactive(children=(IntSlider(value=4000, continuous_update=False, description='Teff', max=10000, min=4000),…"
      ]
     },
     "metadata": {},
     "output_type": "display_data"
    }
   ],
   "source": [
    "# Interactively plot by binding sliders with function arguments\n",
    "interactive_plot = interactive(plot_spectrum, teff=teff_slider, logg=logg_slider, mh=mh_slider)\n",
    "\n",
    "# Fix height to prevent output from flickering\n",
    "output = interactive_plot.children[-1]\n",
    "output.layout.height = '600px'\n",
    "\n",
    "interactive_plot"
   ]
  },
  {
   "cell_type": "code",
   "execution_count": null,
   "metadata": {},
   "outputs": [],
   "source": []
  }
 ],
 "metadata": {
  "kernelspec": {
   "display_name": "Python 3",
   "language": "python",
   "name": "python3"
  },
  "language_info": {
   "codemirror_mode": {
    "name": "ipython",
    "version": 3
   },
   "file_extension": ".py",
   "mimetype": "text/x-python",
   "name": "python",
   "nbconvert_exporter": "python",
   "pygments_lexer": "ipython3",
   "version": "3.6.7"
  }
 },
 "nbformat": 4,
 "nbformat_minor": 2
}
